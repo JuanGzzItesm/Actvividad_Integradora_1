{
 "cells": [
  {
   "cell_type": "markdown",
   "metadata": {},
   "source": [
    "# Actividad Integradora\n",
    "\n",
    "#### Equipo 3:\n",
    "- Noé Campos A00820323\n",
    "- Daniela García A01281919"
   ]
  },
  {
   "cell_type": "markdown",
   "metadata": {},
   "source": [
    "**Install needed packages**"
   ]
  },
  {
   "cell_type": "code",
   "execution_count": 2,
   "metadata": {},
   "outputs": [
    {
     "name": "stdout",
     "output_type": "stream",
     "text": [
      "Requirement already satisfied: requests in /usr/lib/python3/dist-packages (2.22.0)\n",
      "Collecting beautifulsoup4\n",
      "  Downloading beautifulsoup4-4.9.1-py3-none-any.whl (115 kB)\n",
      "\u001b[K     |████████████████████████████████| 115 kB 504 kB/s eta 0:00:01\n",
      "\u001b[?25hCollecting soupsieve>1.2\n",
      "  Downloading soupsieve-2.0.1-py3-none-any.whl (32 kB)\n",
      "Installing collected packages: soupsieve, beautifulsoup4\n",
      "Successfully installed beautifulsoup4-4.9.1 soupsieve-2.0.1\n"
     ]
    }
   ],
   "source": [
    "!pip3 install requests\n",
    "!pip3 install beautifulsoup4"
   ]
  },
  {
   "cell_type": "markdown",
   "metadata": {},
   "source": [
    "**Imports**"
   ]
  },
  {
   "cell_type": "code",
   "execution_count": 106,
   "metadata": {},
   "outputs": [],
   "source": [
    "import re\n",
    "import requests\n",
    "from bs4 import BeautifulSoup"
   ]
  },
  {
   "cell_type": "markdown",
   "metadata": {},
   "source": [
    "**Código**"
   ]
  },
  {
   "cell_type": "code",
   "execution_count": 107,
   "metadata": {},
   "outputs": [],
   "source": [
    "# Get the HTML \n",
    "URL = 'https://www.worldometers.info/coronavirus/'\n",
    "page = requests.get(URL)\n",
    "\n",
    "soup = BeautifulSoup(page.content, 'html.parser')"
   ]
  },
  {
   "cell_type": "code",
   "execution_count": 108,
   "metadata": {},
   "outputs": [],
   "source": [
    "# Get all the script tags\n",
    "scriptsList = list(soup.find_all('script'))\n",
    "asStr = list(map(lambda X: str(X), scriptsList))\n",
    "\n",
    "# Script tag with the daily new cases lists\n",
    "scriptDaily = asStr[21]\n",
    "\n",
    "# Get all the lists inside this tag\n",
    "allLists = re.findall(r'\\[(.*?)\\]', scriptDaily)\n",
    "\n",
    "# As each matched regular expression is a whole string\n",
    "# The \" chars need to be removed\n",
    "# Use str.split(',') to split the mega string into a list every time a coma is found\n",
    "Date = allLists[4].replace('\"', '').split(',')\n",
    "Cases = allLists[5].split(',')"
   ]
  },
  {
   "cell_type": "code",
   "execution_count": 109,
   "metadata": {},
   "outputs": [
    {
     "name": "stdout",
     "output_type": "stream",
     "text": [
      "Date = ['Jan 22', 'Jan 23', 'Jan 24', 'Jan 25', 'Jan 26', 'Jan 27', 'Jan 28', 'Jan 29', 'Jan 30', 'Jan 31', 'Feb 01', 'Feb 02', 'Feb 03', 'Feb 04', 'Feb 05', 'Feb 06', 'Feb 07', 'Feb 08', 'Feb 09', 'Feb 10', 'Feb 11', 'Feb 12', 'Feb 13', 'Feb 14', 'Feb 15', 'Feb 16', 'Feb 17', 'Feb 18', 'Feb 19', 'Feb 20', 'Feb 21', 'Feb 22', 'Feb 23', 'Feb 24', 'Feb 25', 'Feb 26', 'Feb 27', 'Feb 28', 'Feb 29', 'Mar 01', 'Mar 02', 'Mar 03', 'Mar 04', 'Mar 05', 'Mar 06', 'Mar 07', 'Mar 08', 'Mar 09', 'Mar 10', 'Mar 11', 'Mar 12', 'Mar 13', 'Mar 14', 'Mar 15', 'Mar 16', 'Mar 17', 'Mar 18', 'Mar 19', 'Mar 20', 'Mar 21', 'Mar 22', 'Mar 23', 'Mar 24', 'Mar 25', 'Mar 26', 'Mar 27', 'Mar 28', 'Mar 29', 'Mar 30', 'Mar 31', 'Apr 01', 'Apr 02', 'Apr 03', 'Apr 04', 'Apr 05', 'Apr 06', 'Apr 07', 'Apr 08', 'Apr 09', 'Apr 10', 'Apr 11', 'Apr 12', 'Apr 13', 'Apr 14', 'Apr 15', 'Apr 16', 'Apr 17', 'Apr 18', 'Apr 19', 'Apr 20', 'Apr 21', 'Apr 22', 'Apr 23', 'Apr 24', 'Apr 25', 'Apr 26', 'Apr 27', 'Apr 28', 'Apr 29', 'Apr 30', 'May 01', 'May 02', 'May 03', 'May 04', 'May 05', 'May 06', 'May 07', 'May 08', 'May 09', 'May 10', 'May 11', 'May 12', 'May 13', 'May 14', 'May 15', 'May 16', 'May 17', 'May 18', 'May 19', 'May 20', 'May 21', 'May 22', 'May 23', 'May 24', 'May 25', 'May 26', 'May 27', 'May 28', 'May 29', 'May 30', 'May 31', 'Jun 01', 'Jun 02', 'Jun 03', 'Jun 04', 'Jun 05', 'Jun 06', 'Jun 07', 'Jun 08', 'Jun 09', 'Jun 10', 'Jun 11', 'Jun 12', 'Jun 13', 'Jun 14', 'Jun 15', 'Jun 16', 'Jun 17', 'Jun 18', 'Jun 19', 'Jun 20', 'Jun 21', 'Jun 22', 'Jun 23', 'Jun 24', 'Jun 25', 'Jun 26', 'Jun 27', 'Jun 28', 'Jun 29', 'Jun 30', 'Jul 01', 'Jul 02', 'Jul 03']\n"
     ]
    }
   ],
   "source": [
    "print('Date = {}'.format(Date))"
   ]
  },
  {
   "cell_type": "code",
   "execution_count": 110,
   "metadata": {},
   "outputs": [
    {
     "name": "stdout",
     "output_type": "stream",
     "text": [
      "Cases = ['null', '265', '472', '698', '785', '1781', '1477', '1755', '2010', '2127', '2603', '2838', '3239', '3915', '3721', '3173', '3437', '2676', '3001', '2546', '2035', '14153', '5151', '2662', '2097', '2132', '2003', '1852', '516', '977', '996', '978', '554', '885', '738', '992', '1288', '1509', '1989', '1980', '1862', '2570', '2306', '3090', '3637', '4052', '3894', '4434', '4644', '7232', '8258', '10912', '10959', '13016', '12933', '15763', '20685', '26140', '30665', '29407', '32435', '41546', '43793', '48618', '60940', '64649', '66761', '60465', '64234', '74000', '77121', '80175', '84056', '81569', '70438', '73040', '78346', '84432', '85208', '91553', '79225', '71494', '70044', '73078', '82757', '80777', '84939', '80289', '75160', '73458', '75430', '80071', '84853', '101695', '90253', '73261', '69349', '75444', '79861', '85848', '94982', '82901', '82174', '79429', '81443', '95884', '96330', '96597', '89342', '80209', '74657', '85731', '89767', '97301', '100393', '96957', '82562', '90485', '95859', '103538', '108410', '108938', '100497', '97349', '90910', '93893', '107543', '117751', '126931', '125464', '109915', '105730', '116420', '121370', '131432', '131404', '129633', '114906', '108639', '122007', '136905', '139260', '143400', '135253', '124523', '126072', '144127', '146589', '141605', '182488', '158036', '131075', '140073', '164509', '174307', '181198', '195404', '178390', '164646', '162047', '175349', '197520', '209379', '209028']\n"
     ]
    }
   ],
   "source": [
    "print('Cases = {}'.format(Cases))"
   ]
  },
  {
   "cell_type": "code",
   "execution_count": null,
   "metadata": {},
   "outputs": [],
   "source": []
  }
 ],
 "metadata": {
  "kernelspec": {
   "display_name": "Python 3",
   "language": "python",
   "name": "python3"
  },
  "language_info": {
   "codemirror_mode": {
    "name": "ipython",
    "version": 3
   },
   "file_extension": ".py",
   "mimetype": "text/x-python",
   "name": "python",
   "nbconvert_exporter": "python",
   "pygments_lexer": "ipython3",
   "version": "3.7.6"
  }
 },
 "nbformat": 4,
 "nbformat_minor": 4
}
